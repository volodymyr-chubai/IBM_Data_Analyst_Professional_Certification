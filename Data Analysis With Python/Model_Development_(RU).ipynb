{
 "cells": [
  {
   "cell_type": "markdown",
   "id": "28b9b8a4",
   "metadata": {},
   "source": [
    "# Разработка модели"
   ]
  },
  {
   "cell_type": "markdown",
   "id": "67455e3f",
   "metadata": {},
   "source": [
    "## Цели\n",
    "\n",
    "После прохождения этой лабораторной работы вы сможете:\n",
    "\n",
    "* Разработать модель прогнозирования"
   ]
  },
  {
   "cell_type": "markdown",
   "id": "12adec0a",
   "metadata": {},
   "source": [
    "<p>В этом разделе мы разработаем несколько моделей, которые будут прогнозировать цену автомобиля с помощью переменных или характеристик. Это всего лишь оценка, но она должна дать нам объективное представление о том, сколько должна стоить машина.</p>"
   ]
  },
  {
   "cell_type": "markdown",
   "id": "8370774d",
   "metadata": {},
   "source": [
    "<p>При анализе данных мы часто используем <b>разработку моделей</b>, чтобы прогнозировать будущие наблюдения на основе имеющихся данных.</p>\n",
    "\n",
    "<p>Модель поможет нам понять точную взаимосвязь между различными переменными и то, как эти переменные используются для прогнозирования результата.</p>"
   ]
  },
  {
   "cell_type": "code",
   "execution_count": 2,
   "id": "b49760b6",
   "metadata": {},
   "outputs": [],
   "source": [
    "import pandas as pd\n",
    "import numpy as np\n",
    "import matplotlib.pyplot as plt\n",
    "import seaborn as sns"
   ]
  },
  {
   "cell_type": "code",
   "execution_count": 3,
   "id": "5dffb490",
   "metadata": {},
   "outputs": [
    {
     "data": {
      "text/html": [
       "<div>\n",
       "<style scoped>\n",
       "    .dataframe tbody tr th:only-of-type {\n",
       "        vertical-align: middle;\n",
       "    }\n",
       "\n",
       "    .dataframe tbody tr th {\n",
       "        vertical-align: top;\n",
       "    }\n",
       "\n",
       "    .dataframe thead th {\n",
       "        text-align: right;\n",
       "    }\n",
       "</style>\n",
       "<table border=\"1\" class=\"dataframe\">\n",
       "  <thead>\n",
       "    <tr style=\"text-align: right;\">\n",
       "      <th></th>\n",
       "      <th>symboling</th>\n",
       "      <th>normalized-losses</th>\n",
       "      <th>make</th>\n",
       "      <th>aspiration</th>\n",
       "      <th>num-of-doors</th>\n",
       "      <th>body-style</th>\n",
       "      <th>drive-wheels</th>\n",
       "      <th>engine-location</th>\n",
       "      <th>wheel-base</th>\n",
       "      <th>length</th>\n",
       "      <th>...</th>\n",
       "      <th>compression-ratio</th>\n",
       "      <th>horsepower</th>\n",
       "      <th>peak-rpm</th>\n",
       "      <th>city-mpg</th>\n",
       "      <th>highway-mpg</th>\n",
       "      <th>price</th>\n",
       "      <th>city-L/100km</th>\n",
       "      <th>horsepower-binned</th>\n",
       "      <th>diesel</th>\n",
       "      <th>gas</th>\n",
       "    </tr>\n",
       "  </thead>\n",
       "  <tbody>\n",
       "    <tr>\n",
       "      <th>0</th>\n",
       "      <td>3</td>\n",
       "      <td>122</td>\n",
       "      <td>alfa-romero</td>\n",
       "      <td>std</td>\n",
       "      <td>two</td>\n",
       "      <td>convertible</td>\n",
       "      <td>rwd</td>\n",
       "      <td>front</td>\n",
       "      <td>88.6</td>\n",
       "      <td>0.811148</td>\n",
       "      <td>...</td>\n",
       "      <td>9.0</td>\n",
       "      <td>111.0</td>\n",
       "      <td>5000.0</td>\n",
       "      <td>21</td>\n",
       "      <td>27</td>\n",
       "      <td>13495.0</td>\n",
       "      <td>11.190476</td>\n",
       "      <td>Medium</td>\n",
       "      <td>0</td>\n",
       "      <td>1</td>\n",
       "    </tr>\n",
       "    <tr>\n",
       "      <th>1</th>\n",
       "      <td>3</td>\n",
       "      <td>122</td>\n",
       "      <td>alfa-romero</td>\n",
       "      <td>std</td>\n",
       "      <td>two</td>\n",
       "      <td>convertible</td>\n",
       "      <td>rwd</td>\n",
       "      <td>front</td>\n",
       "      <td>88.6</td>\n",
       "      <td>0.811148</td>\n",
       "      <td>...</td>\n",
       "      <td>9.0</td>\n",
       "      <td>111.0</td>\n",
       "      <td>5000.0</td>\n",
       "      <td>21</td>\n",
       "      <td>27</td>\n",
       "      <td>16500.0</td>\n",
       "      <td>11.190476</td>\n",
       "      <td>Medium</td>\n",
       "      <td>0</td>\n",
       "      <td>1</td>\n",
       "    </tr>\n",
       "    <tr>\n",
       "      <th>2</th>\n",
       "      <td>1</td>\n",
       "      <td>122</td>\n",
       "      <td>alfa-romero</td>\n",
       "      <td>std</td>\n",
       "      <td>two</td>\n",
       "      <td>hatchback</td>\n",
       "      <td>rwd</td>\n",
       "      <td>front</td>\n",
       "      <td>94.5</td>\n",
       "      <td>0.822681</td>\n",
       "      <td>...</td>\n",
       "      <td>9.0</td>\n",
       "      <td>154.0</td>\n",
       "      <td>5000.0</td>\n",
       "      <td>19</td>\n",
       "      <td>26</td>\n",
       "      <td>16500.0</td>\n",
       "      <td>12.368421</td>\n",
       "      <td>Medium</td>\n",
       "      <td>0</td>\n",
       "      <td>1</td>\n",
       "    </tr>\n",
       "    <tr>\n",
       "      <th>3</th>\n",
       "      <td>2</td>\n",
       "      <td>164</td>\n",
       "      <td>audi</td>\n",
       "      <td>std</td>\n",
       "      <td>four</td>\n",
       "      <td>sedan</td>\n",
       "      <td>fwd</td>\n",
       "      <td>front</td>\n",
       "      <td>99.8</td>\n",
       "      <td>0.848630</td>\n",
       "      <td>...</td>\n",
       "      <td>10.0</td>\n",
       "      <td>102.0</td>\n",
       "      <td>5500.0</td>\n",
       "      <td>24</td>\n",
       "      <td>30</td>\n",
       "      <td>13950.0</td>\n",
       "      <td>9.791667</td>\n",
       "      <td>Medium</td>\n",
       "      <td>0</td>\n",
       "      <td>1</td>\n",
       "    </tr>\n",
       "    <tr>\n",
       "      <th>4</th>\n",
       "      <td>2</td>\n",
       "      <td>164</td>\n",
       "      <td>audi</td>\n",
       "      <td>std</td>\n",
       "      <td>four</td>\n",
       "      <td>sedan</td>\n",
       "      <td>4wd</td>\n",
       "      <td>front</td>\n",
       "      <td>99.4</td>\n",
       "      <td>0.848630</td>\n",
       "      <td>...</td>\n",
       "      <td>8.0</td>\n",
       "      <td>115.0</td>\n",
       "      <td>5500.0</td>\n",
       "      <td>18</td>\n",
       "      <td>22</td>\n",
       "      <td>17450.0</td>\n",
       "      <td>13.055556</td>\n",
       "      <td>Medium</td>\n",
       "      <td>0</td>\n",
       "      <td>1</td>\n",
       "    </tr>\n",
       "  </tbody>\n",
       "</table>\n",
       "<p>5 rows × 29 columns</p>\n",
       "</div>"
      ],
      "text/plain": [
       "   symboling  normalized-losses         make aspiration num-of-doors  \\\n",
       "0          3                122  alfa-romero        std          two   \n",
       "1          3                122  alfa-romero        std          two   \n",
       "2          1                122  alfa-romero        std          two   \n",
       "3          2                164         audi        std         four   \n",
       "4          2                164         audi        std         four   \n",
       "\n",
       "    body-style drive-wheels engine-location  wheel-base    length  ...  \\\n",
       "0  convertible          rwd           front        88.6  0.811148  ...   \n",
       "1  convertible          rwd           front        88.6  0.811148  ...   \n",
       "2    hatchback          rwd           front        94.5  0.822681  ...   \n",
       "3        sedan          fwd           front        99.8  0.848630  ...   \n",
       "4        sedan          4wd           front        99.4  0.848630  ...   \n",
       "\n",
       "   compression-ratio  horsepower  peak-rpm city-mpg highway-mpg    price  \\\n",
       "0                9.0       111.0    5000.0       21          27  13495.0   \n",
       "1                9.0       111.0    5000.0       21          27  16500.0   \n",
       "2                9.0       154.0    5000.0       19          26  16500.0   \n",
       "3               10.0       102.0    5500.0       24          30  13950.0   \n",
       "4                8.0       115.0    5500.0       18          22  17450.0   \n",
       "\n",
       "  city-L/100km  horsepower-binned  diesel  gas  \n",
       "0    11.190476             Medium       0    1  \n",
       "1    11.190476             Medium       0    1  \n",
       "2    12.368421             Medium       0    1  \n",
       "3     9.791667             Medium       0    1  \n",
       "4    13.055556             Medium       0    1  \n",
       "\n",
       "[5 rows x 29 columns]"
      ]
     },
     "execution_count": 3,
     "metadata": {},
     "output_type": "execute_result"
    }
   ],
   "source": [
    "path = 'https://cf-courses-data.s3.us.cloud-object-storage.appdomain.cloud/IBMDeveloperSkillsNetwork-DA0101EN-SkillsNetwork/labs/Data%20files/automobileEDA.csv'\n",
    "df = pd.read_csv(path)\n",
    "df.head()"
   ]
  },
  {
   "cell_type": "markdown",
   "id": "dcb3ebea",
   "metadata": {},
   "source": [
    "<h2>1. Линейная регрессия и множественная линейная регрессия</h2>"
   ]
  },
  {
   "cell_type": "markdown",
   "id": "f2a48470",
   "metadata": {},
   "source": [
    "<h3>Линейная регрессия</h3>"
   ]
  },
  {
   "cell_type": "markdown",
   "id": "a861a979",
   "metadata": {},
   "source": [
    "<p>Один из примеров модели данных, которую мы будем использовать:</p>\n",
    "<b>Простая линейная регрессия</b>\n",
    "\n",
    "<br>\n",
    "<p>Простая линейная регрессия — это метод, помогающий нам понять взаимосвязь между двумя переменными:</p>\n",
    "<ul>\n",
    "     <li>Предиктор/независимая переменная (X)</li>\n",
    "     <li>Отклик/зависимая переменная (которую мы хотим предсказать) (Y)</li>\n",
    "</ul>\n",
    "\n",
    "<p>Результатом линейной регрессии является <b>линейная функция</b>, которая предсказывает переменную ответа (зависимую) как функцию переменной-предиктора (независимой).</p>"
   ]
  },
  {
   "cell_type": "markdown",
   "id": "c232a1cc",
   "metadata": {},
   "source": [
    "$$\n",
    "Y: Зависимая \\ переменная\\\\\\\\\\\\\\\\\\\\\n",
    "X: Независимая \\ переменная\n",
    "$$"
   ]
  },
  {
   "cell_type": "markdown",
   "id": "aad0c029",
   "metadata": {},
   "source": [
    "<b>Линейная функция</b>\n",
    "$$\n",
    "Yhat = a + b  X\n",
    "$$\n",
    "\n"
   ]
  },
  {
   "cell_type": "markdown",
   "id": "1901b2a4",
   "metadata": {},
   "source": [
    "<ul>\n",
    "     <li>\"a\" относится к <b>пересечению</b> линии регрессии, другими словами: значение Y, когда X равно 0</li>\n",
    "     <li>\"b\" относится к <b>наклону</b> линии регрессии, другими словами: значение, на которое изменяется Y, когда X увеличивается на 1 единицу</li>\n",
    "</ul>"
   ]
  },
  {
   "cell_type": "markdown",
   "id": "5aae0801",
   "metadata": {},
   "source": [
    "<h4>Давайте загрузим модули для линейной регрессии:</h4>"
   ]
  },
  {
   "cell_type": "code",
   "execution_count": 4,
   "id": "75cf0e9f",
   "metadata": {},
   "outputs": [],
   "source": [
    "from sklearn.linear_model import LinearRegression"
   ]
  },
  {
   "cell_type": "markdown",
   "id": "3320ad49",
   "metadata": {},
   "source": [
    "<h4>Создание объекта линейной регрессии:</h4>"
   ]
  },
  {
   "cell_type": "code",
   "execution_count": 5,
   "id": "39ad8a30",
   "metadata": {},
   "outputs": [
    {
     "data": {
      "text/plain": [
       "LinearRegression()"
      ]
     },
     "execution_count": 5,
     "metadata": {},
     "output_type": "execute_result"
    }
   ],
   "source": [
    "lm = LinearRegression()\n",
    "lm"
   ]
  },
  {
   "cell_type": "markdown",
   "id": "d9a3a87b",
   "metadata": {},
   "source": [
    "<h4>Как \"highway-mpg\" может помочь нам предсказать цену автомобиля?</h4>"
   ]
  },
  {
   "cell_type": "markdown",
   "id": "ebccb6de",
   "metadata": {},
   "source": [
    "В этом примере мы хотим посмотреть, как \"highway-mpg\" может помочь нам предсказать цену автомобиля. Используя простую линейную регрессию, мы создадим линейную функцию с «highway-mpg» в качестве переменной-предиктора и «price» в качестве переменной-ответа."
   ]
  },
  {
   "cell_type": "code",
   "execution_count": 6,
   "id": "dac9cef9",
   "metadata": {},
   "outputs": [],
   "source": [
    "X = df[['highway-mpg']]\n",
    "Y = df['price']"
   ]
  },
  {
   "cell_type": "markdown",
   "id": "5075a8b2",
   "metadata": {},
   "source": [
    "Соответствуйте линейной модели используя highway-mpg:"
   ]
  },
  {
   "cell_type": "code",
   "execution_count": 7,
   "id": "05ba09f6",
   "metadata": {},
   "outputs": [
    {
     "data": {
      "text/plain": [
       "LinearRegression()"
      ]
     },
     "execution_count": 7,
     "metadata": {},
     "output_type": "execute_result"
    }
   ],
   "source": [
    "lm.fit(X,Y)"
   ]
  },
  {
   "cell_type": "markdown",
   "id": "6c5cc5b1",
   "metadata": {},
   "source": [
    "Мы можем вывести прогноз:"
   ]
  },
  {
   "cell_type": "code",
   "execution_count": 8,
   "id": "e00b1aeb",
   "metadata": {},
   "outputs": [
    {
     "data": {
      "text/plain": [
       "array([16236.50464347, 16236.50464347, 17058.23802179, 13771.3045085 ,\n",
       "       20345.17153508])"
      ]
     },
     "execution_count": 8,
     "metadata": {},
     "output_type": "execute_result"
    }
   ],
   "source": [
    "Yhat=lm.predict(X)\n",
    "Yhat[0:5]"
   ]
  },
  {
   "cell_type": "markdown",
   "id": "a8b218c0",
   "metadata": {},
   "source": [
    "<h4>Каково значение точки пересечения (a)?</h4>"
   ]
  },
  {
   "cell_type": "code",
   "execution_count": 9,
   "id": "cbe42625",
   "metadata": {},
   "outputs": [
    {
     "data": {
      "text/plain": [
       "38423.3058581574"
      ]
     },
     "execution_count": 9,
     "metadata": {},
     "output_type": "execute_result"
    }
   ],
   "source": [
    "lm.intercept_"
   ]
  },
  {
   "cell_type": "markdown",
   "id": "9108d746",
   "metadata": {},
   "source": [
    "<h4>Каково значение наклона (b)?</h4>"
   ]
  },
  {
   "cell_type": "code",
   "execution_count": 10,
   "id": "711b57b8",
   "metadata": {},
   "outputs": [
    {
     "data": {
      "text/plain": [
       "array([-821.73337832])"
      ]
     },
     "execution_count": 10,
     "metadata": {},
     "output_type": "execute_result"
    }
   ],
   "source": [
    "lm.coef_"
   ]
  },
  {
   "cell_type": "markdown",
   "id": "d5c3da54",
   "metadata": {},
   "source": [
    "<h3>Какую окончательную оценочную линейную модель мы получим?</h3>"
   ]
  },
  {
   "cell_type": "markdown",
   "id": "44ff116b",
   "metadata": {},
   "source": [
    "Как мы видели выше, мы должны получить окончательную линейную модель со структурой:"
   ]
  },
  {
   "cell_type": "markdown",
   "id": "86254540",
   "metadata": {},
   "source": [
    "$$\n",
    "Yhat = a + b  X\n",
    "$$\n",
    "\n"
   ]
  },
  {
   "cell_type": "markdown",
   "id": "d299e8c9",
   "metadata": {},
   "source": [
    "Подставляя фактические значения, мы получаем:"
   ]
  },
  {
   "cell_type": "markdown",
   "id": "8bd6663e",
   "metadata": {},
   "source": [
    "<b>Price</b> = 38423.31 - 821.73 x <b>highway-mpg</b>"
   ]
  },
  {
   "cell_type": "markdown",
   "id": "fd37851d",
   "metadata": {},
   "source": [
    "<h4>Создайте объект линейной регрессии с именем «lm1» </h4>"
   ]
  },
  {
   "cell_type": "code",
   "execution_count": 11,
   "id": "3b9ca0cb",
   "metadata": {},
   "outputs": [
    {
     "data": {
      "text/plain": [
       "LinearRegression()"
      ]
     },
     "execution_count": 11,
     "metadata": {},
     "output_type": "execute_result"
    }
   ],
   "source": [
    "lm1 = LinearRegression()\n",
    "lm1"
   ]
  },
  {
   "cell_type": "markdown",
   "id": "bf1e6447",
   "metadata": {},
   "source": [
    "<h4>Обучите модель, используя «engine-size» в качестве независимой переменной и «price» в качестве зависимой переменной</h4>"
   ]
  },
  {
   "cell_type": "code",
   "execution_count": 12,
   "id": "5543c4f6",
   "metadata": {},
   "outputs": [
    {
     "data": {
      "text/plain": [
       "LinearRegression()"
      ]
     },
     "execution_count": 12,
     "metadata": {},
     "output_type": "execute_result"
    }
   ],
   "source": [
    "lm1.fit(df[['engine-size']], df[['price']])\n",
    "lm1"
   ]
  },
  {
   "cell_type": "markdown",
   "id": "42fe2cd0",
   "metadata": {},
   "source": [
    "<h4>Найдите наклон и точку пересечения модели</h4>"
   ]
  },
  {
   "cell_type": "code",
   "execution_count": 13,
   "id": "c58b8d52",
   "metadata": {},
   "outputs": [
    {
     "data": {
      "text/plain": [
       "array([[166.86001569]])"
      ]
     },
     "execution_count": 13,
     "metadata": {},
     "output_type": "execute_result"
    }
   ],
   "source": [
    "# Наклон \n",
    "lm1.coef_"
   ]
  },
  {
   "cell_type": "code",
   "execution_count": 14,
   "id": "a4c5d3f5",
   "metadata": {},
   "outputs": [
    {
     "data": {
      "text/plain": [
       "array([-7963.33890628])"
      ]
     },
     "execution_count": 14,
     "metadata": {},
     "output_type": "execute_result"
    }
   ],
   "source": [
    "# Пересечение\n",
    "lm1.intercept_"
   ]
  },
  {
   "cell_type": "markdown",
   "id": "343755f5",
   "metadata": {},
   "source": [
    "<h4>Каково уравнение предсказанной линии?</h4>\n",
    "<h5>Вы можете использовать 'x' и 'Yhat' или «размер двигателя» или «цена»</h5>"
   ]
  },
  {
   "cell_type": "code",
   "execution_count": 15,
   "id": "35b2bf20",
   "metadata": {},
   "outputs": [],
   "source": [
    "Yhat = -7963.34 + 166.86 * X"
   ]
  },
  {
   "cell_type": "code",
   "execution_count": 16,
   "id": "865da051",
   "metadata": {},
   "outputs": [],
   "source": [
    "# Price = -7963.34 + 166.86 * engine_size"
   ]
  },
  {
   "cell_type": "markdown",
   "id": "81d714ee",
   "metadata": {},
   "source": [
    "<h3>Множественная линейная регрессия</h3>"
   ]
  },
  {
   "cell_type": "markdown",
   "id": "f9767ef4",
   "metadata": {},
   "source": [
    "<p>Что, если мы хотим предсказать цену автомобиля, используя более одной переменной?</p>\n",
    "\n",
    "<p>Если мы хотим использовать в нашей модели больше переменных для прогнозирования цены автомобиля, мы можем использовать <b>множественную линейную регрессию</b>.\n",
    "Множественная линейная регрессия очень похожа на простую линейную регрессию, но этот метод используется для объяснения взаимосвязи между одной переменной непрерывного отклика (зависимой) и <b>двумя или более</b> предикторными (независимыми) переменными.\n",
    "Большинство реальных регрессионных моделей включают несколько предикторов. Мы проиллюстрируем структуру с помощью четырех переменных-предикторов, но эти результаты можно обобщить на любое целое число:</p>"
   ]
  },
  {
   "cell_type": "markdown",
   "id": "0892875b",
   "metadata": {},
   "source": [
    "$$\n",
    "Y: Зависимая \\ переменная\\\\\\\\\\\\\\\\\\\\\n",
    "X\\_1: Независимая \\ переменная \\ 1\\\\\\\\\n",
    "X\\_2: Независимая \\ переменная \\ 2\\\\\\\\\n",
    "X\\_3: Независимая \\ переменная \\ 3\\\\\\\\\n",
    "X\\_4: Независимая \\ переменная \\ 4\\\\\\\\\n",
    "$$\n",
    "\n"
   ]
  },
  {
   "cell_type": "markdown",
   "id": "77c2d999",
   "metadata": {},
   "source": [
    "$$\n",
    "a: Пересечение\\\\\\\\\\\\\\\\\\\\\n",
    "b\\_1: Наклон \\ переменной \\ 1\\\\\\\\\n",
    "b\\_2: Наклон \\ переменной \\ 2\\\\\\\\\n",
    "b\\_3: Наклон \\ переменной \\ 3\\\\\\\\\n",
    "b\\_4: Наклон \\ переменной \\ 4\\\\\\\\\n",
    "$$\n",
    "\n"
   ]
  },
  {
   "cell_type": "markdown",
   "id": "a7ca83fb",
   "metadata": {},
   "source": [
    "Структура уравнения множественной линейной регрессии:"
   ]
  },
  {
   "cell_type": "markdown",
   "id": "53327745",
   "metadata": {},
   "source": [
    "$$\n",
    "Yhat = a + b\\_1 X\\_1 + b\\_2 X\\_2 + b\\_3 X\\_3 + b\\_4 X\\_4\n",
    "$$\n",
    "\n"
   ]
  },
  {
   "cell_type": "markdown",
   "id": "934a57d1",
   "metadata": {},
   "source": [
    "<p>Из предыдущего раздела мы знаем, что другими хорошими предикторами цены могут быть:</p>\n",
    "<ul>\n",
    "     <li>Мощность</li>\n",
    "     <li>Снаряженная масса</li>\n",
    "     <li>Размер двигателя</li>\n",
    "     <li>Мили на галлон по шоссе</li>\n",
    "</ul>\n",
    "<h4>Давайте разработаем модель, используя эти переменные в качестве предикторов.</h4>"
   ]
  },
  {
   "cell_type": "code",
   "execution_count": 17,
   "id": "1e837498",
   "metadata": {},
   "outputs": [],
   "source": [
    "Z = df[['horsepower', 'curb-weight', 'engine-size', 'highway-mpg']]"
   ]
  },
  {
   "cell_type": "markdown",
   "id": "a1a1031f",
   "metadata": {},
   "source": [
    "Соответствуйте линейной модели с помощью четырех вышеупомянутых переменных."
   ]
  },
  {
   "cell_type": "code",
   "execution_count": 18,
   "id": "80e0018a",
   "metadata": {},
   "outputs": [
    {
     "data": {
      "text/plain": [
       "LinearRegression()"
      ]
     },
     "execution_count": 18,
     "metadata": {},
     "output_type": "execute_result"
    }
   ],
   "source": [
    "lm.fit(Z, df['price'])"
   ]
  },
  {
   "cell_type": "markdown",
   "id": "88b2aac9",
   "metadata": {},
   "source": [
    "<h4>Каково значение точки пересечения (a)?</h4>"
   ]
  },
  {
   "cell_type": "code",
   "execution_count": 19,
   "id": "bf7e26a6",
   "metadata": {},
   "outputs": [
    {
     "data": {
      "text/plain": [
       "-15806.624626329194"
      ]
     },
     "execution_count": 19,
     "metadata": {},
     "output_type": "execute_result"
    }
   ],
   "source": [
    "lm.intercept_"
   ]
  },
  {
   "cell_type": "markdown",
   "id": "63fb074b",
   "metadata": {},
   "source": [
    "<h4>Каково значение наклона (b1, b2, b3, b4)?</h4>"
   ]
  },
  {
   "cell_type": "code",
   "execution_count": 20,
   "id": "db8e4ecb",
   "metadata": {},
   "outputs": [
    {
     "data": {
      "text/plain": [
       "array([53.49574423,  4.70770099, 81.53026382, 36.05748882])"
      ]
     },
     "execution_count": 20,
     "metadata": {},
     "output_type": "execute_result"
    }
   ],
   "source": [
    "lm.coef_"
   ]
  },
  {
   "cell_type": "markdown",
   "id": "3a260ff9",
   "metadata": {},
   "source": [
    "<h4>Какова окончательная оценочная линейная модель, которую мы получаем?</h4>"
   ]
  },
  {
   "cell_type": "markdown",
   "id": "4b4e14a8",
   "metadata": {},
   "source": [
    "Как мы видели выше, у нас должна получиться итоговая линейная функция со структурой:\n",
    "\n",
    "$$\n",
    "Yhat = a + b\\_1 X\\_1 + b\\_2 X\\_2 + b\\_3 X\\_3b\\_4 X_4\n",
    "$$\n",
    "\n",
    "Какую линейную функцию мы получим в этом примере?"
   ]
  },
  {
   "cell_type": "markdown",
   "id": "d3a0a9d1",
   "metadata": {},
   "source": [
    "<b>Price</b> = -15678.742628061467 + 52.65851272 x <b>horsepower</b> + 4.69878948 x <b>curb-weight</b> + 81.95906216 x <b>engine-size</b> + 33.58258185 x <b>highway-mpg</b>"
   ]
  },
  {
   "cell_type": "markdown",
   "id": "41c3bf61",
   "metadata": {},
   "source": [
    "<h4>Создайте и обучите модель множественной линейной регрессии «lm2», где переменной ответа является «цена», а переменной-предиктором являются «нормализованные потери» и «шоссе-миль на галлон».</h4?"
   ]
  },
  {
   "cell_type": "code",
   "execution_count": 22,
   "id": "e4555805",
   "metadata": {},
   "outputs": [
    {
     "data": {
      "text/plain": [
       "LinearRegression()"
      ]
     },
     "execution_count": 22,
     "metadata": {},
     "output_type": "execute_result"
    }
   ],
   "source": [
    "lm2 = LinearRegression()\n",
    "lm2.fit(df[['normalized-losses' , 'highway-mpg']],df['price'])"
   ]
  },
  {
   "cell_type": "markdown",
   "id": "84a3bbfa",
   "metadata": {},
   "source": [
    "<h4>Найдите коэффициент модели</h4>"
   ]
  },
  {
   "cell_type": "code",
   "execution_count": 24,
   "id": "aa4b24ec",
   "metadata": {},
   "outputs": [
    {
     "data": {
      "text/plain": [
       "array([   1.49789586, -820.45434016])"
      ]
     },
     "execution_count": 24,
     "metadata": {},
     "output_type": "execute_result"
    }
   ],
   "source": [
    "lm2.coef_"
   ]
  },
  {
   "cell_type": "markdown",
   "id": "d7973797",
   "metadata": {},
   "source": [
    "<h2>2. Оценка модели с помощью визуализации</h2>"
   ]
  },
  {
   "cell_type": "markdown",
   "id": "8d5b71ca",
   "metadata": {},
   "source": [
    "Теперь, когда мы разработали несколько моделей, как нам оценить наши модели и выбрать лучшую? Один из способов сделать это — использовать визуализацию."
   ]
  },
  {
   "cell_type": "code",
   "execution_count": 25,
   "id": "62917c4b",
   "metadata": {},
   "outputs": [],
   "source": [
    "# импортировать пакет визуализации: seaborn\n",
    "import seaborn as sns\n",
    "%matplotlib inline "
   ]
  },
  {
   "cell_type": "markdown",
   "id": "d6a06cfe",
   "metadata": {},
   "source": [
    "<h3>График регрессии</h3>"
   ]
  },
  {
   "cell_type": "markdown",
   "id": "152b7fa7",
   "metadata": {},
   "source": [
    "<p>Когда дело доходит до простой линейной регрессии, отличным способом визуализировать соответствие нашей модели является использование <b>графиков регрессии</b>.</p>\n",
    "\n",
    "<p>На этом графике будет отображаться комбинация разбросанных точек данных (<b>диаграмма рассеяния</b>), а также подобранная линия <b>линейной регрессии</b>, проходящая через данные. Это даст нам разумную оценку взаимосвязи между двумя переменными, силу корреляции, а также направление (положительная или отрицательная корреляция).</p>"
   ]
  },
  {
   "cell_type": "markdown",
   "id": "7171d96b",
   "metadata": {},
   "source": [
    "Давайте визуализируем **шоссе-миль на галлон** как потенциальную предикторную переменную **цены**:"
   ]
  },
  {
   "cell_type": "code",
   "execution_count": 26,
   "id": "b0eca98c",
   "metadata": {},
   "outputs": [
    {
     "data": {
      "text/plain": [
       "(0.0, 48172.45423712931)"
      ]
     },
     "execution_count": 26,
     "metadata": {},
     "output_type": "execute_result"
    },
    {
     "data": {
      "image/png": "[encoded data removed]",
      "text/plain": [
       "<Figure size 864x720 with 1 Axes>"
      ]
     },
     "metadata": {
      "needs_background": "light"
     },
     "output_type": "display_data"
    }
   ],
   "source": [
    "width = 12\n",
    "height = 10\n",
    "plt.figure(figsize=(width, height))\n",
    "sns.regplot(x=\"highway-mpg\", y=\"price\", data=df)\n",
    "plt.ylim(0,)"
   ]
  },
  {
   "cell_type": "markdown",
   "id": "46dc3832",
   "metadata": {},
   "source": [
    "<p>Из этого графика видно, что цена отрицательно коррелирует с расходом на галлон по шоссе, поскольку наклон регрессии отрицательный.\n",
    "\n",
    "При просмотре графика регрессии следует помнить одну вещь: обращайте внимание на то, насколько разбросаны точки данных вокруг линии регрессии. Это даст вам хорошее представление о дисперсии данных и о том, будет ли линейная модель лучше всего подходить или нет. Если данные слишком далеко от линии, эта линейная модель может быть не лучшей моделью для этих данных.\n",
    "\n",
    "Давайте сравним этот график с графиком регрессии \"пиковой скорости вращения\".</p>"
   ]
  },
  {
   "cell_type": "code",
   "execution_count": 27,
   "id": "8c44b1b5",
   "metadata": {},
   "outputs": [
    {
     "data": {
      "text/plain": [
       "(0.0, 47414.1)"
      ]
     },
     "execution_count": 27,
     "metadata": {},
     "output_type": "execute_result"
    },
    {
     "data": {
      "image/png": "[encoded data removed]",
      "text/plain": [
       "<Figure size 864x720 with 1 Axes>"
      ]
     },
     "metadata": {
      "needs_background": "light"
     },
     "output_type": "display_data"
    }
   ],
   "source": [
    "plt.figure(figsize=(width, height))\n",
    "sns.regplot(x=\"peak-rpm\", y=\"price\", data=df)\n",
    "plt.ylim(0,)"
   ]
  },
  {
   "cell_type": "markdown",
   "id": "7828f580",
   "metadata": {},
   "source": [
    "Сравнивая график регрессии «пиковое число оборотов в минуту» и «шоссе-миль на галлон», мы видим, что точки для «шоссе-миль на галлон» намного ближе к сгенерированной линии и в среднем уменьшаются. Точки для «пиковых оборотов в минуту» больше разбросаны по прогнозируемой линии, и гораздо сложнее определить, уменьшаются или увеличиваются точки по мере увеличения «пиковых оборотов»."
   ]
  },
  {
   "cell_type": "markdown",
   "id": "be4f0bb1",
   "metadata": {},
   "source": [
    "<h4>Учитывая приведенные выше графики регрессии, какая переменная сильнее коррелируют с «ценой»?</h4>\n",
    "    <h4>Используйте метод «.corr()», чтобы проверить свой ответ</h4>"
   ]
  },
  {
   "cell_type": "code",
   "execution_count": 29,
   "id": "f686b1d6",
   "metadata": {},
   "outputs": [
    {
     "data": {
      "text/html": [
       "<div>\n",
       "<style scoped>\n",
       "    .dataframe tbody tr th:only-of-type {\n",
       "        vertical-align: middle;\n",
       "    }\n",
       "\n",
       "    .dataframe tbody tr th {\n",
       "        vertical-align: top;\n",
       "    }\n",
       "\n",
       "    .dataframe thead th {\n",
       "        text-align: right;\n",
       "    }\n",
       "</style>\n",
       "<table border=\"1\" class=\"dataframe\">\n",
       "  <thead>\n",
       "    <tr style=\"text-align: right;\">\n",
       "      <th></th>\n",
       "      <th>peak-rpm</th>\n",
       "      <th>highway-mpg</th>\n",
       "      <th>price</th>\n",
       "    </tr>\n",
       "  </thead>\n",
       "  <tbody>\n",
       "    <tr>\n",
       "      <th>peak-rpm</th>\n",
       "      <td>1.000000</td>\n",
       "      <td>-0.058598</td>\n",
       "      <td>-0.101616</td>\n",
       "    </tr>\n",
       "    <tr>\n",
       "      <th>highway-mpg</th>\n",
       "      <td>-0.058598</td>\n",
       "      <td>1.000000</td>\n",
       "      <td>-0.704692</td>\n",
       "    </tr>\n",
       "    <tr>\n",
       "      <th>price</th>\n",
       "      <td>-0.101616</td>\n",
       "      <td>-0.704692</td>\n",
       "      <td>1.000000</td>\n",
       "    </tr>\n",
       "  </tbody>\n",
       "</table>\n",
       "</div>"
      ],
      "text/plain": [
       "             peak-rpm  highway-mpg     price\n",
       "peak-rpm     1.000000    -0.058598 -0.101616\n",
       "highway-mpg -0.058598     1.000000 -0.704692\n",
       "price       -0.101616    -0.704692  1.000000"
      ]
     },
     "execution_count": 29,
     "metadata": {},
     "output_type": "execute_result"
    }
   ],
   "source": [
    "# Переменная «highway-mpg» имеет более сильную корреляцию с «ценой», \n",
    "# она составляет приблизительно -0,704692 по сравнению с «peak-rpm», которая составляет приблизительно -0,101616. \n",
    "\n",
    "\n",
    "df[[\"peak-rpm\",\"highway-mpg\",\"price\"]].corr()"
   ]
  },
  {
   "cell_type": "markdown",
   "id": "3cb0fb32",
   "metadata": {},
   "source": [
    "<h3>Остаточный график</h3>\n",
    "\n",
    "<p>Хорошим способом визуализировать дисперсию данных является использование остаточного графика.</p>\n",
    "\n",
    "<p>Что такое <b>остаток</b>?</p>\n",
    "\n",
    "<p>Разница между наблюдаемым значением (y) и прогнозируемым значением (Yhat) называется остатком (e). Когда мы смотрим на график регрессии, остаток — это расстояние от точки данных до подобранной линии регрессии.</p>\n",
    "\n",
    "<p>Так что же такое <b>остаточный график</b>?</p>\n",
    "\n",
    "<p>Остаточный график – это график, отображающий невязки по вертикальной оси Y и независимую переменную по горизонтальной оси X.</p>\n",
    "\n",
    "<p>На что мы обращаем внимание, когда смотрим на остаточный участок?</p>\n",
    "\n",
    "<p>Мы смотрим на разброс остатков:</p>\n",
    "\n",
    "<p>- Если точки на остаточном графике <b>случайно разбросаны по оси x</b>, то для данных подходит <b>линейная модель</b>.\n",
    "\n",
    "Почему это? Случайно распределенные остатки означают, что дисперсия постоянна, и поэтому линейная модель хорошо подходит для этих данных.</p>"
   ]
  },
  {
   "cell_type": "code",
   "execution_count": 31,
   "id": "30c58309",
   "metadata": {},
   "outputs": [
    {
     "data": {
      "image/png": "[encoded data removed]",
      "text/plain": [
       "<Figure size 864x720 with 1 Axes>"
      ]
     },
     "metadata": {
      "needs_background": "light"
     },
     "output_type": "display_data"
    }
   ],
   "source": [
    "width = 12\n",
    "height = 10\n",
    "plt.figure(figsize=(width, height))\n",
    "sns.residplot(df['highway-mpg'], df['price'])\n",
    "plt.show()"
   ]
  },
  {
   "cell_type": "markdown",
   "id": "6968743f",
   "metadata": {},
   "source": [
    "<i>О чем говорит нам этот график?</i>\n",
    "\n",
    "<p>Из этого графика остатков видно, что остатки не распределены случайным образом по оси X, что наводит нас на мысль, что, возможно, для этих данных больше подходит нелинейная модель.</p>"
   ]
  },
  {
   "cell_type": "markdown",
   "id": "0c9e0562",
   "metadata": {},
   "source": [
    "<h3>Множественная линейная регрессия</h3>"
   ]
  },
  {
   "cell_type": "markdown",
   "id": "e144bb54",
   "metadata": {},
   "source": [
    "<p>Как визуализировать модель множественной линейной регрессии? Это становится немного сложнее, потому что вы не можете визуализировать это с помощью регрессии или остаточного графика.</p>\n",
    "\n",
    "<p>Один из способов оценить соответствие модели – посмотреть на <b>график распределения</b>. Мы можем посмотреть на распределение подобранных значений, полученных в результате модели, и сравнить его с распределением фактических значений.</p>"
   ]
  },
  {
   "cell_type": "markdown",
   "id": "e522beb3",
   "metadata": {},
   "source": [
    "Сначала сделаем прогноз:"
   ]
  },
  {
   "cell_type": "code",
   "execution_count": 32,
   "id": "3ff1ca7b",
   "metadata": {},
   "outputs": [],
   "source": [
    "Y_hat = lm.predict(Z)"
   ]
  },
  {
   "cell_type": "code",
   "execution_count": 35,
   "id": "dbac7eef",
   "metadata": {},
   "outputs": [
    {
     "name": "stderr",
     "output_type": "stream",
     "text": [
      "/Users/volodymyrchubay/opt/anaconda3/lib/python3.9/site-packages/seaborn/distributions.py:2619: FutureWarning: `distplot` is a deprecated function and will be removed in a future version. Please adapt your code to use either `displot` (a figure-level function with similar flexibility) or `kdeplot` (an axes-level function for kernel density plots).\n",
      "  warnings.warn(msg, FutureWarning)\n",
      "/Users/volodymyrchubay/opt/anaconda3/lib/python3.9/site-packages/seaborn/distributions.py:2619: FutureWarning: `distplot` is a deprecated function and will be removed in a future version. Please adapt your code to use either `displot` (a figure-level function with similar flexibility) or `kdeplot` (an axes-level function for kernel density plots).\n",
      "  warnings.warn(msg, FutureWarning)\n"
     ]
    },
    {
     "data": {
      "image/png": "[encoded data removed]",
      "text/plain": [
       "<Figure size 864x720 with 1 Axes>"
      ]
     },
     "metadata": {
      "needs_background": "light"
     },
     "output_type": "display_data"
    }
   ],
   "source": [
    "plt.figure(figsize=(width, height))\n",
    "\n",
    "\n",
    "ax1 = sns.distplot(df['price'], hist=False, color=\"r\", label=\"Actual Value\")\n",
    "sns.distplot(Y_hat, hist=False, color=\"b\", label=\"Fitted Values\" , ax=ax1)\n",
    "\n",
    "\n",
    "plt.title('Actual vs Fitted Values for Price')\n",
    "plt.xlabel('Price (in dollars)')\n",
    "plt.ylabel('Proportion of Cars')\n",
    "\n",
    "plt.show()\n",
    "plt.close()"
   ]
  },
  {
   "cell_type": "markdown",
   "id": "9580c204",
   "metadata": {},
   "source": [
    "Мы видим, что подобранные значения достаточно близки к фактическим значениям, поскольку два распределения немного перекрываются. Тем не менее, определенно есть место для улучшения."
   ]
  },
  {
   "cell_type": "markdown",
   "id": "8763aaf2",
   "metadata": {},
   "source": [
    "<h2>3. Полиномиальная регрессия и конвейеры</h2>"
   ]
  },
  {
   "cell_type": "markdown",
   "id": "55e1c868",
   "metadata": {},
   "source": [
    "<p><b>Полиномиальная регрессия</b> — это частный случай общей модели линейной регрессии или моделей множественной линейной регрессии.</p>\n",
    "<p>Мы получаем нелинейные отношения, возводя в квадрат или устанавливая члены более высокого порядка переменных-предикторов.</p>\n",
    "\n",
    "<p>Существуют разные порядки полиномиальной регрессии:</p>"
   ]
  },
  {
   "cell_type": "markdown",
   "id": "2136c7af",
   "metadata": {},
   "source": [
    "<center><b>Квадратичный - 2-й порядок</b></center>\n",
    "\n",
    "$$\n",
    "Yhat = a + b_1 X +b_2 X^2\\\\\\\\\\\\\\\\\\\\ \n",
    "$$\n",
    "\n",
    "<center><b>Кубический - 3-й порядок</b></center>\n",
    "\n",
    "$$\n",
    "Yhat = a + b_1 X +b_2 X^2 +b_3 X^3\\\\\\\\\\\\\\\\\\\\\n",
    "$$\n",
    "\n",
    "<center><b>Более высокого порядка</b>:</center>\n",
    "\n",
    "$$\n",
    "Y = a + b_1 X +b_2 X^2 +b_3 X^3 ....\\\\\\\\\n",
    "$$\n",
    "\n"
   ]
  },
  {
   "cell_type": "markdown",
   "id": "cea99b34",
   "metadata": {},
   "source": [
    "Ранее мы видели, что линейная модель не дает наилучшего соответствия при использовании «highway-mpg» в качестве переменной-предиктора. Давайте посмотрим, можем ли мы вместо этого попробовать подогнать к данным полиномиальную модель.\n",
    "\n",
    "Мы будем использовать следующую функцию для построения графика данных:"
   ]
  },
  {
   "cell_type": "code",
   "execution_count": 36,
   "id": "338db91a",
   "metadata": {},
   "outputs": [],
   "source": [
    "def PlotPolly(model, independent_variable, dependent_variabble, Name):\n",
    "    x_new = np.linspace(15, 55, 100)\n",
    "    y_new = model(x_new)\n",
    "\n",
    "    plt.plot(independent_variable, dependent_variabble, '.', x_new, y_new, '-')\n",
    "    plt.title('Polynomial Fit with Matplotlib for Price ~ Length')\n",
    "    ax = plt.gca()\n",
    "    ax.set_facecolor((0.898, 0.898, 0.898))\n",
    "    fig = plt.gcf()\n",
    "    plt.xlabel(Name)\n",
    "    plt.ylabel('Price of Cars')\n",
    "\n",
    "    plt.show()\n",
    "    plt.close()"
   ]
  },
  {
   "cell_type": "markdown",
   "id": "1198a964",
   "metadata": {},
   "source": [
    "Укажем переменные:"
   ]
  },
  {
   "cell_type": "code",
   "execution_count": 37,
   "id": "58d113d0",
   "metadata": {},
   "outputs": [],
   "source": [
    "x = df['highway-mpg']\n",
    "y = df['price']"
   ]
  },
  {
   "cell_type": "markdown",
   "id": "9fd7c9a7",
   "metadata": {},
   "source": [
    "Подгоним полином с помощью функции <b>polyfit</b>, а затем воспользуемся функцией <b>poly1d</b> для отображения полиномиальной функции."
   ]
  },
  {
   "cell_type": "code",
   "execution_count": 38,
   "id": "eef3081e",
   "metadata": {},
   "outputs": [
    {
     "name": "stdout",
     "output_type": "stream",
     "text": [
      "        3         2\n",
      "-1.557 x + 204.8 x - 8965 x + 1.379e+05\n"
     ]
    }
   ],
   "source": [
    "# Здесь мы используем многочлен 3-го порядка (кубический)\n",
    "f = np.polyfit(x, y, 3)\n",
    "p = np.poly1d(f)\n",
    "print(p)"
   ]
  },
  {
   "cell_type": "markdown",
   "id": "f54a3916",
   "metadata": {},
   "source": [
    "Построим график функции:"
   ]
  },
  {
   "cell_type": "code",
   "execution_count": 39,
   "id": "cc007535",
   "metadata": {},
   "outputs": [
    {
     "data": {
      "image/png": "[encoded data removed]",
      "text/plain": [
       "<Figure size 432x288 with 1 Axes>"
      ]
     },
     "metadata": {
      "needs_background": "light"
     },
     "output_type": "display_data"
    }
   ],
   "source": [
    "PlotPolly(p, x, y, 'highway-mpg')"
   ]
  },
  {
   "cell_type": "code",
   "execution_count": 40,
   "id": "ce6d7176",
   "metadata": {},
   "outputs": [
    {
     "data": {
      "text/plain": [
       "array([-1.55663829e+00,  2.04754306e+02, -8.96543312e+03,  1.37923594e+05])"
      ]
     },
     "execution_count": 40,
     "metadata": {},
     "output_type": "execute_result"
    }
   ],
   "source": [
    "np.polyfit(x, y, 3)"
   ]
  },
  {
   "cell_type": "markdown",
   "id": "01e971c3",
   "metadata": {},
   "source": [
    "Мы уже можем видеть из графика, что эта полиномиальная модель работает лучше, чем линейная модель. Это связано с тем, что сгенерированная полиномиальная функция «попадает» в большее количество точек данных."
   ]
  },
  {
   "cell_type": "markdown",
   "id": "c4709fae",
   "metadata": {},
   "source": [
    "<h4>Создайте полиномиальную модель 11-го порядка с переменными x и y, указанными выше</h4>"
   ]
  },
  {
   "cell_type": "code",
   "execution_count": 41,
   "id": "06aaf20c",
   "metadata": {},
   "outputs": [
    {
     "name": "stdout",
     "output_type": "stream",
     "text": [
      "            11             10             9           8         7\n",
      "-1.243e-08 x  + 4.722e-06 x  - 0.0008028 x + 0.08056 x - 5.297 x\n",
      "          6        5             4             3             2\n",
      " + 239.5 x - 7588 x + 1.684e+05 x - 2.565e+06 x + 2.551e+07 x - 1.491e+08 x + 3.879e+08\n"
     ]
    },
    {
     "data": {
      "image/png": "[encoded data removed]",
      "text/plain": [
       "<Figure size 432x288 with 1 Axes>"
      ]
     },
     "metadata": {
      "needs_background": "light"
     },
     "output_type": "display_data"
    }
   ],
   "source": [
    "f1 = np.polyfit(x, y, 11)\n",
    "p1 = np.poly1d(f1)\n",
    "print(p1)\n",
    "PlotPolly(p1,x,y, 'Highway MPG')"
   ]
  },
  {
   "cell_type": "markdown",
   "id": "d86547fe",
   "metadata": {},
   "source": [
    "Аналитическое выражение для многомерной полиномиальной функции усложняется. Например, выражение для многочлена второго порядка (степень = 2) с двумя переменными имеет вид:"
   ]
  },
  {
   "cell_type": "markdown",
   "id": "ef17f145",
   "metadata": {},
   "source": [
    "$$\n",
    "Yhat = a + b\\_1 X\\_1 +b\\_2 X\\_2 +b\\_3 X\\_1 X\\_2+b\\_4 X\\_1^2+b\\_5 X\\_2^2\n",
    "$$"
   ]
  },
  {
   "cell_type": "markdown",
   "id": "ae7d71dc",
   "metadata": {},
   "source": [
    "Мы можем выполнить полиномиальное преобразование для нескольких функций. Сначала мы импортируем модуль:"
   ]
  },
  {
   "cell_type": "code",
   "execution_count": 42,
   "id": "d1b4c694",
   "metadata": {},
   "outputs": [],
   "source": [
    "from sklearn.preprocessing import PolynomialFeatures"
   ]
  },
  {
   "cell_type": "markdown",
   "id": "c5008982",
   "metadata": {},
   "source": [
    "Мы создаем объект <b>PolynomialFeatures</b> степени 2:"
   ]
  },
  {
   "cell_type": "code",
   "execution_count": 43,
   "id": "3069d474",
   "metadata": {},
   "outputs": [
    {
     "data": {
      "text/plain": [
       "PolynomialFeatures()"
      ]
     },
     "execution_count": 43,
     "metadata": {},
     "output_type": "execute_result"
    }
   ],
   "source": [
    "pr=PolynomialFeatures(degree=2)\n",
    "pr"
   ]
  },
  {
   "cell_type": "code",
   "execution_count": 44,
   "id": "b7367b17",
   "metadata": {},
   "outputs": [],
   "source": [
    "Z_pr=pr.fit_transform(Z)"
   ]
  },
  {
   "cell_type": "markdown",
   "id": "c4905351",
   "metadata": {},
   "source": [
    "В исходных данных 201 образец и 4 признака."
   ]
  },
  {
   "cell_type": "code",
   "execution_count": 45,
   "id": "76642dd6",
   "metadata": {},
   "outputs": [
    {
     "data": {
      "text/plain": [
       "(201, 4)"
      ]
     },
     "execution_count": 45,
     "metadata": {},
     "output_type": "execute_result"
    }
   ],
   "source": [
    "Z.shape"
   ]
  },
  {
   "cell_type": "markdown",
   "id": "2301dd1f",
   "metadata": {},
   "source": [
    "После преобразования остается 201 образец и 15 признаков."
   ]
  },
  {
   "cell_type": "code",
   "execution_count": 46,
   "id": "43586756",
   "metadata": {},
   "outputs": [
    {
     "data": {
      "text/plain": [
       "(201, 15)"
      ]
     },
     "execution_count": 46,
     "metadata": {},
     "output_type": "execute_result"
    }
   ],
   "source": [
    "Z_pr.shape"
   ]
  },
  {
   "cell_type": "markdown",
   "id": "a354c960",
   "metadata": {},
   "source": [
    "<h2>Конвейер</h2>"
   ]
  },
  {
   "cell_type": "markdown",
   "id": "bcaa9607",
   "metadata": {},
   "source": [
    "<p>Конвейеры данных упрощают этапы обработки данных. Мы используем модуль <b>Pipeline</b> для создания конвейера. Мы также используем <b>StandardScaler</b> в качестве шага в нашем конвейере.</p>"
   ]
  },
  {
   "cell_type": "code",
   "execution_count": 47,
   "id": "53dba63f",
   "metadata": {},
   "outputs": [],
   "source": [
    "from sklearn.pipeline import Pipeline\n",
    "from sklearn.preprocessing import StandardScaler"
   ]
  },
  {
   "cell_type": "markdown",
   "id": "869806c0",
   "metadata": {},
   "source": [
    "Мы создаем конвейер, создавая список кортежей, включая имя модели или оценщика и соответствующий ему конструктор."
   ]
  },
  {
   "cell_type": "code",
   "execution_count": 48,
   "id": "e4e0bdc7",
   "metadata": {},
   "outputs": [],
   "source": [
    "Input=[('scale',StandardScaler()), ('polynomial', PolynomialFeatures(include_bias=False)), ('model',LinearRegression())]"
   ]
  },
  {
   "cell_type": "markdown",
   "id": "906fc610",
   "metadata": {},
   "source": [
    "Мы вводим список в качестве аргумента конструктору конвейера:"
   ]
  },
  {
   "cell_type": "code",
   "execution_count": 49,
   "id": "ac7c46da",
   "metadata": {},
   "outputs": [
    {
     "data": {
      "text/plain": [
       "Pipeline(steps=[('scale', StandardScaler()),\n",
       "                ('polynomial', PolynomialFeatures(include_bias=False)),\n",
       "                ('model', LinearRegression())])"
      ]
     },
     "execution_count": 49,
     "metadata": {},
     "output_type": "execute_result"
    }
   ],
   "source": [
    "pipe=Pipeline(Input)\n",
    "pipe"
   ]
  },
  {
   "cell_type": "markdown",
   "id": "45b09894",
   "metadata": {},
   "source": [
    "Во-первых, мы преобразуем тип данных Z в тип float, чтобы избежать предупреждений о преобразовании, которые могут появиться в результате того, что StandardScaler принимает входные данные с плавающей запятой.\n",
    "\n",
    "Затем мы можем нормализовать данные, выполнить преобразование и одновременно подобрать модель."
   ]
  },
  {
   "cell_type": "code",
   "execution_count": 50,
   "id": "c2dd8678",
   "metadata": {},
   "outputs": [
    {
     "data": {
      "text/plain": [
       "Pipeline(steps=[('scale', StandardScaler()),\n",
       "                ('polynomial', PolynomialFeatures(include_bias=False)),\n",
       "                ('model', LinearRegression())])"
      ]
     },
     "execution_count": 50,
     "metadata": {},
     "output_type": "execute_result"
    }
   ],
   "source": [
    "Z = Z.astype(float)\n",
    "pipe.fit(Z,y)"
   ]
  },
  {
   "cell_type": "markdown",
   "id": "69d488dc",
   "metadata": {},
   "source": [
    "Точно так же мы можем нормализовать данные, выполнить преобразование и одновременно произвести прогноз."
   ]
  },
  {
   "cell_type": "code",
   "execution_count": 51,
   "id": "22765b72",
   "metadata": {},
   "outputs": [
    {
     "data": {
      "text/plain": [
       "array([13102.74784201, 13102.74784201, 18225.54572197, 10390.29636555])"
      ]
     },
     "execution_count": 51,
     "metadata": {},
     "output_type": "execute_result"
    }
   ],
   "source": [
    "ypipe=pipe.predict(Z)\n",
    "ypipe[0:4]"
   ]
  },
  {
   "cell_type": "markdown",
   "id": "11f632a3",
   "metadata": {},
   "source": [
    "<h4>Создайте конвейер, который стандартизирует данные, затем создайте прогноз, используя модель линейной регрессии, используя функции Z и цель y.</h4>"
   ]
  },
  {
   "cell_type": "code",
   "execution_count": 53,
   "id": "62d0d744",
   "metadata": {},
   "outputs": [
    {
     "data": {
      "text/plain": [
       "array([13699.11161184, 13699.11161184, 19051.65470233, 10620.36193015,\n",
       "       15521.31420211, 13869.66673213, 15456.16196732, 15974.00907672,\n",
       "       17612.35917161, 10722.32509097])"
      ]
     },
     "execution_count": 53,
     "metadata": {},
     "output_type": "execute_result"
    }
   ],
   "source": [
    "Input=[('scale',StandardScaler()),('model',LinearRegression())]\n",
    "\n",
    "pipe=Pipeline(Input)\n",
    "\n",
    "pipe.fit(Z,y)\n",
    "\n",
    "ypipe=pipe.predict(Z)\n",
    "ypipe[0:10]"
   ]
  },
  {
   "cell_type": "markdown",
   "id": "824a47f7",
   "metadata": {},
   "source": [
    "<h2>4. Меры для оценки в выборке</h2>"
   ]
  },
  {
   "cell_type": "markdown",
   "id": "4bc65672",
   "metadata": {},
   "source": [
    "<p>При оценке наших моделей мы хотим не только визуализировать результаты, но и количественно оценить точность модели.</p>\n",
    "\n",
    "<p>Два очень важных показателя, которые часто используются в статистике для определения точности модели:</p>\n",
    "<ul>\n",
    "     <li><b>R^2 / R-квадрат</b></li>\n",
    "     <li><b>Среднеквадратическая ошибка (MSE)</b></li>\n",
    "</ul>\n",
    "\n",
    "<b>R-квадрат</b>\n",
    "\n",
    "<p>Квадрат R, также известный как коэффициент детерминации, представляет собой показатель, показывающий, насколько данные близки к подобранной линии регрессии.</p>\n",
    "\n",
    "<p>Значение R-квадрата – это процент изменения переменной ответа (y), которое объясняется линейной моделью.</p>\n",
    "\n",
    "<b>Среднеквадратическая ошибка (MSE)</b>\n",
    "\n",
    "<p>Среднеквадратическая ошибка измеряет среднее значение квадратов ошибок. То есть разница между фактическим значением (y) и оценочным значением (ŷ).</p>"
   ]
  },
  {
   "cell_type": "markdown",
   "id": "1fe82b7f",
   "metadata": {},
   "source": [
    "<h3>Модель 1: простая линейная регрессия</h3>"
   ]
  },
  {
   "cell_type": "markdown",
   "id": "18158246",
   "metadata": {},
   "source": [
    "Рассчитаем R^2:"
   ]
  },
  {
   "cell_type": "code",
   "execution_count": 54,
   "id": "1a2596b8",
   "metadata": {},
   "outputs": [
    {
     "name": "stdout",
     "output_type": "stream",
     "text": [
      "The R-square is:  0.4965911884339176\n"
     ]
    }
   ],
   "source": [
    "# highway_mpg_fit\n",
    "lm.fit(X, Y)\n",
    "# Find the R^2\n",
    "print('The R-square is: ', lm.score(X, Y))"
   ]
  },
  {
   "cell_type": "markdown",
   "id": "e96fca48",
   "metadata": {},
   "source": [
    "Можно сказать, что ~49,659% вариации цены объясняется этой простой линейной моделью «horsepower_fit»."
   ]
  },
  {
   "cell_type": "markdown",
   "id": "39474cc7",
   "metadata": {},
   "source": [
    "Рассчитаем среднеквадратическую ошибку (MSE):"
   ]
  },
  {
   "cell_type": "markdown",
   "id": "42d79f3f",
   "metadata": {},
   "source": [
    "Мы можем предсказать результат, т. е. «yhat», используя метод прогнозирования, где X — входная переменная:"
   ]
  },
  {
   "cell_type": "code",
   "execution_count": 56,
   "id": "e4670249",
   "metadata": {},
   "outputs": [
    {
     "name": "stdout",
     "output_type": "stream",
     "text": [
      "Вывод первых четырех прогнозируемых значений::  [16236.50464347 16236.50464347 17058.23802179 13771.3045085 ]\n"
     ]
    }
   ],
   "source": [
    "Yhat=lm.predict(X)\n",
    "print('Вывод первых четырех прогнозируемых значений:: ', Yhat[0:4])"
   ]
  },
  {
   "cell_type": "markdown",
   "id": "b6538f88",
   "metadata": {},
   "source": [
    "Импортируем функцию <b>mean_squared_error</b> из модуля <b>metrics</b>:"
   ]
  },
  {
   "cell_type": "code",
   "execution_count": 57,
   "id": "e12294ee",
   "metadata": {},
   "outputs": [],
   "source": [
    "from sklearn.metrics import mean_squared_error"
   ]
  },
  {
   "cell_type": "markdown",
   "id": "0c603dbd",
   "metadata": {},
   "source": [
    "Мы можем сравнить прогнозируемые результаты с фактическими результатами:"
   ]
  },
  {
   "cell_type": "code",
   "execution_count": 59,
   "id": "1e431bd1",
   "metadata": {},
   "outputs": [
    {
     "name": "stdout",
     "output_type": "stream",
     "text": [
      "Среднеквадратическая ошибка цены и прогнозируемого значения равна:  31635042.944639888\n"
     ]
    }
   ],
   "source": [
    "mse = mean_squared_error(df['price'], Yhat)\n",
    "print('Среднеквадратическая ошибка цены и прогнозируемого значения равна: ', mse)"
   ]
  },
  {
   "cell_type": "markdown",
   "id": "7fffe350",
   "metadata": {},
   "source": [
    "<h3>Модель 2: множественная линейная регрессия</h3>"
   ]
  },
  {
   "cell_type": "markdown",
   "id": "ce5ee085",
   "metadata": {},
   "source": [
    "Let's calculate the R^2:"
   ]
  },
  {
   "cell_type": "code",
   "execution_count": 60,
   "id": "8cfa3338",
   "metadata": {},
   "outputs": [
    {
     "name": "stdout",
     "output_type": "stream",
     "text": [
      "The R-square is:  0.8093562806577457\n"
     ]
    }
   ],
   "source": [
    "# fit the model \n",
    "lm.fit(Z, df['price'])\n",
    "# Find the R^2\n",
    "print('The R-square is: ', lm.score(Z, df['price']))"
   ]
  },
  {
   "cell_type": "markdown",
   "id": "7906051f",
   "metadata": {},
   "source": [
    "We can say that ~80.896 % of the variation of price is explained by this multiple linear regression \"multi_fit\"."
   ]
  },
  {
   "cell_type": "markdown",
   "id": "43b52df4",
   "metadata": {},
   "source": [
    "Let's calculate the MSE."
   ]
  },
  {
   "cell_type": "markdown",
   "id": "b364b25e",
   "metadata": {},
   "source": [
    "We produce a prediction:"
   ]
  },
  {
   "cell_type": "code",
   "execution_count": 61,
   "id": "4e5731fe",
   "metadata": {},
   "outputs": [],
   "source": [
    "Y_predict_multifit = lm.predict(Z)"
   ]
  },
  {
   "cell_type": "markdown",
   "id": "aa4d9358",
   "metadata": {},
   "source": [
    "We compare the predicted results with the actual results:"
   ]
  },
  {
   "cell_type": "code",
   "execution_count": 62,
   "id": "c2577978",
   "metadata": {},
   "outputs": [
    {
     "name": "stdout",
     "output_type": "stream",
     "text": [
      "Среднеквадратическая ошибка цены и прогнозируемого значения с использованием мультифита равна:  11980366.87072649\n"
     ]
    }
   ],
   "source": [
    "print('Среднеквадратическая ошибка цены и прогнозируемого значения с использованием мультифита равна: ', \\\n",
    "      mean_squared_error(df['price'], Y_predict_multifit))"
   ]
  },
  {
   "cell_type": "markdown",
   "id": "92fefa4f",
   "metadata": {},
   "source": [
    "<h3>Модель 3: полиномиальная аппроксимация</h3>"
   ]
  },
  {
   "cell_type": "markdown",
   "id": "f6bfaebf",
   "metadata": {},
   "source": [
    "Let's calculate the R^2."
   ]
  },
  {
   "cell_type": "markdown",
   "id": "548f100d",
   "metadata": {},
   "source": [
    "Let’s import the function <b>r2\\_score</b> from the module <b>metrics</b> as we are using a different function."
   ]
  },
  {
   "cell_type": "code",
   "execution_count": 64,
   "id": "4836ca03",
   "metadata": {},
   "outputs": [],
   "source": [
    "from sklearn.metrics import r2_score"
   ]
  },
  {
   "cell_type": "markdown",
   "id": "e22c4354",
   "metadata": {},
   "source": [
    "We apply the function to get the value of R^2:"
   ]
  },
  {
   "cell_type": "code",
   "execution_count": 65,
   "id": "1a30a42f",
   "metadata": {},
   "outputs": [
    {
     "name": "stdout",
     "output_type": "stream",
     "text": [
      "The R-square value is:  0.6741946663906517\n"
     ]
    }
   ],
   "source": [
    "r_squared = r2_score(y, p(x))\n",
    "print('The R-square value is: ', r_squared)"
   ]
  },
  {
   "cell_type": "markdown",
   "id": "9a41a196",
   "metadata": {},
   "source": [
    "We can say that ~67.419 % of the variation of price is explained by this polynomial fit."
   ]
  },
  {
   "cell_type": "markdown",
   "id": "fe721776",
   "metadata": {},
   "source": [
    "<h3>Среднеквадратическая ошибка (MSE)</h3>"
   ]
  },
  {
   "cell_type": "markdown",
   "id": "1d333b0b",
   "metadata": {},
   "source": [
    "We can also calculate the MSE:"
   ]
  },
  {
   "cell_type": "code",
   "execution_count": 67,
   "id": "c0e12588",
   "metadata": {},
   "outputs": [
    {
     "data": {
      "text/plain": [
       "20474146.426361226"
      ]
     },
     "execution_count": 67,
     "metadata": {},
     "output_type": "execute_result"
    }
   ],
   "source": [
    "mean_squared_error(df['price'], p(x))"
   ]
  },
  {
   "cell_type": "markdown",
   "id": "07791168",
   "metadata": {},
   "source": [
    "<h2>5. Прогнозирование и принятие решений</h2>\n",
    "<h3>Прогноз</h3>\n",
    "\n",
    "<p>В предыдущем разделе мы обучили модель с помощью метода <b>fit</b>. Теперь мы будем использовать метод <b>predict</b> для создания прогноза. Давайте импортируем <b>pyplot</b> для построения графика; мы также будем использовать некоторые функции из numpy.</p>"
   ]
  },
  {
   "cell_type": "code",
   "execution_count": 68,
   "id": "313da6cb",
   "metadata": {},
   "outputs": [],
   "source": [
    "import matplotlib.pyplot as plt\n",
    "import numpy as np\n",
    "\n",
    "%matplotlib inline "
   ]
  },
  {
   "cell_type": "markdown",
   "id": "ade64184",
   "metadata": {},
   "source": [
    "Создайте новый вход:"
   ]
  },
  {
   "cell_type": "code",
   "execution_count": 69,
   "id": "0e58ac36",
   "metadata": {},
   "outputs": [],
   "source": [
    "new_input=np.arange(1, 100, 1).reshape(-1, 1)"
   ]
  },
  {
   "cell_type": "markdown",
   "id": "7abf8a2a",
   "metadata": {},
   "source": [
    "Fit the model:"
   ]
  },
  {
   "cell_type": "code",
   "execution_count": 70,
   "id": "563fd3ab",
   "metadata": {},
   "outputs": [
    {
     "data": {
      "text/plain": [
       "LinearRegression()"
      ]
     },
     "execution_count": 70,
     "metadata": {},
     "output_type": "execute_result"
    }
   ],
   "source": [
    "lm.fit(X, Y)\n",
    "lm"
   ]
  },
  {
   "cell_type": "markdown",
   "id": "b022d285",
   "metadata": {},
   "source": [
    "Сделайте прогноз:"
   ]
  },
  {
   "cell_type": "code",
   "execution_count": 71,
   "id": "2a3e5a87",
   "metadata": {},
   "outputs": [
    {
     "data": {
      "text/plain": [
       "array([37601.57247984, 36779.83910151, 35958.10572319, 35136.37234487,\n",
       "       34314.63896655])"
      ]
     },
     "execution_count": 71,
     "metadata": {},
     "output_type": "execute_result"
    }
   ],
   "source": [
    "yhat=lm.predict(new_input)\n",
    "yhat[0:5]"
   ]
  },
  {
   "cell_type": "markdown",
   "id": "2f60febc",
   "metadata": {},
   "source": [
    "Мы можем визуализировать данные:"
   ]
  },
  {
   "cell_type": "code",
   "execution_count": 73,
   "id": "c647c6bc",
   "metadata": {},
   "outputs": [
    {
     "data": {
      "image/png": "[encoded data removed]",
      "text/plain": [
       "<Figure size 432x288 with 1 Axes>"
      ]
     },
     "metadata": {
      "needs_background": "light"
     },
     "output_type": "display_data"
    }
   ],
   "source": [
    "plt.plot(new_input, yhat)\n",
    "plt.show()"
   ]
  },
  {
   "cell_type": "markdown",
   "id": "93931008",
   "metadata": {},
   "source": [
    "<h3>Принятие решений: определение подходящей модели</h3>"
   ]
  },
  {
   "cell_type": "markdown",
   "id": "d704fd8a",
   "metadata": {},
   "source": [
    "<p>Теперь, когда мы визуализировали различные модели и сгенерировали значения R-квадрата и MSE для подгонки, как определить, что модель подходит?\n",
    "<ul>\n",
    "    <li><i>Что такое хорошее значение R-квадрата?</i></li>\n",
    "</ul>\n",
    "</p>\n",
    "\n",
    "<p>При сравнении моделей <b>модель с более высоким значением R-квадрата лучше подходит</b> для данных.\n",
    "<ul>\n",
    "    <li><i>Что такое хорошая MSE?</i></li>\n",
    "</ul>\n",
    "</p>\n",
    "\n",
    "<p>При сравнении моделей <b>модель с наименьшим значением MSE лучше подходит</b> для данных.</p>\n",
    "\n",
    "<h4>Давайте посмотрим на значения для разных моделей.</h4>\n",
    "<p>Простая линейная регрессия: использование Highway-mpg в качестве предиктора цены.\n",
    "<ul>\n",
    "    <li>R-квадрат: 0,49659118843391759</li>\n",
    "    <li>MSE: 3,16 x 10^7</li>\n",
    "</ul>\n",
    "</p>\n",
    "\n",
    "<p>Множественная линейная регрессия: использование лошадиных сил, снаряженной массы, объема двигателя и расхода топлива на галлон в качестве предикторов цены.\n",
    "<ul>\n",
    "    <li>R-квадрат: 0,80896354913783497</li>\n",
    "    <li>MSE: 1,2 x 10^7</li>\n",
    "</ul>\n",
    "</p>\n",
    "\n",
    "<p>Полиномиальная аппроксимация: использование Highway-mpg в качестве предиктора цены.\n",
    "<ul>\n",
    "    <li>R-квадрат: 0,6741946663906514</li>\n",
    "    <li>MSE: 2,05 x 10^7</li>\n",
    "</ul>\n",
    "</p>"
   ]
  },
  {
   "cell_type": "markdown",
   "id": "24f29693",
   "metadata": {},
   "source": [
    "<h3>Модель простой линейной регрессии (SLR) и модель множественной линейной регрессии (MLR)</h3>"
   ]
  },
  {
   "cell_type": "markdown",
   "id": "a3717bbe",
   "metadata": {},
   "source": [
    "<p>Как правило, чем больше у вас переменных, тем лучше прогнозирует ваша модель, но это не всегда так. Иногда у вас может быть недостаточно данных, вы можете столкнуться с числовыми проблемами или многие переменные могут быть бесполезными и даже действовать как шум. Поэтому всегда следует проверять MSE и R^2.</p>\n",
    "\n",
    "<p>Чтобы сравнить результаты моделей MLR и SLR, мы рассматриваем комбинацию R-квадрата и MSE, чтобы сделать наилучший вывод о соответствии модели.\n",
    "<ul>\n",
    "     <li><b>MSE</b>: MSE SLR составляет 3,16x10^7, а MLR имеет MSE 1,2x10^7. MSE MLR намного меньше.</li>\n",
    "     <li><b>R-квадрат</b>. В этом случае мы также видим большую разницу между R-квадратом SLR и R-квадратом MLR. R-квадрат для SLR (~0,497) очень мал по сравнению с R-квадратом для MLR (~0,809).</li>\n",
    "</ul>\n",
    "</p>\n",
    "\n",
    "Этот R-квадрат в сочетании с MSE показывает, что MLR кажется лучшей моделью, подходящей в этом случае по сравнению с SLR."
   ]
  },
  {
   "cell_type": "markdown",
   "id": "b142f598",
   "metadata": {},
   "source": [
    "<h3>Простая линейная модель (SLR) и полиномиальная аппроксимация</h3>"
   ]
  },
  {
   "cell_type": "markdown",
   "id": "7d828062",
   "metadata": {},
   "source": [
    "<ul>\n",
    "     <li><b>MSE</b>: мы видим, что полиномиальная подгонка снизила MSE, поскольку эта MSE меньше, чем у SLR.</li>\n",
    "     <li><b>R-квадрат</b>: R-квадрат для полиномиальной аппроксимации больше, чем R-квадрат для SLR, поэтому полиномиальная аппроксимация также значительно увеличила R-квадрат.</li>\n",
    "</ul>\n",
    "<p>Поскольку полиномиальная аппроксимация привела к более низкому MSE и более высокому R-квадрату, мы можем сделать вывод, что эта модель лучше подходит, чем простая линейная регрессия для прогнозирования \"цены\" с \"highway-mpg\" в качестве предикторной переменной. </p>"
   ]
  },
  {
   "cell_type": "markdown",
   "id": "9aa7c6d8",
   "metadata": {},
   "source": [
    "<h3>Множественная линейная регрессия (MLR) и полиномиальная аппроксимация</h3>"
   ]
  },
  {
   "cell_type": "markdown",
   "id": "bb7b0551",
   "metadata": {},
   "source": [
    "<ul>\n",
    "     <li><b>MSE</b>: MSE для MLR меньше, чем MSE для полиномиальной аппроксимации.</li>\n",
    "     <li><b>R-квадрат</b>: R-квадрат для MLR также намного больше, чем для полиномиальной аппроксимации.</li>\n",
    "</ul>"
   ]
  },
  {
   "cell_type": "markdown",
   "id": "bf39f176",
   "metadata": {},
   "source": [
    "<h2>Вывод</h2>"
   ]
  },
  {
   "cell_type": "markdown",
   "id": "6c70444a",
   "metadata": {},
   "source": [
    "<p>Сравнивая эти три модели, мы приходим к выводу, что <b>модель MLR является лучшей моделью</b> для прогнозирования цены на основе нашего набора данных. Этот результат имеет смысл, поскольку у нас всего 27 переменных, и мы знаем, что более одной из этих переменных являются потенциальными предикторами окончательной цены автомобиля.</p>"
   ]
  }
 ],
 "metadata": {
  "kernelspec": {
   "display_name": "Python 3 (ipykernel)",
   "language": "python",
   "name": "python3"
  },
  "language_info": {
   "codemirror_mode": {
    "name": "ipython",
    "version": 3
   },
   "file_extension": ".py",
   "mimetype": "text/x-python",
   "name": "python",
   "nbconvert_exporter": "python",
   "pygments_lexer": "ipython3",
   "version": "3.9.7"
  }
 },
 "nbformat": 4,
 "nbformat_minor": 5
}
